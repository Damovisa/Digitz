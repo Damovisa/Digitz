{
 "cells": [
  {
   "cell_type": "code",
   "execution_count": 1,
   "metadata": {},
   "outputs": [],
   "source": [
    "import math\n",
    "import numpy as np\n",
    "from PIL import Image\n",
    "import matplotlib.pyplot as plt"
   ]
  },
  {
   "cell_type": "code",
   "execution_count": 5,
   "metadata": {},
   "outputs": [],
   "source": [
    "def show_image(a, reverse=False):\n",
    "    a = a.reshape((3,3))\n",
    "    if reverse:\n",
    "        plt.imshow(-1 * (a - 255),cmap='gray')\n",
    "    else:\n",
    "        plt.imshow(a, cmap='gray')\n",
    "\n",
    "def generate(count):\n",
    "    labels = np.zeros((count,)).astype(int)\n",
    "    images = np.zeros((count, 3, 3)).astype(int)\n",
    "    k = 0\n",
    "    # primary images\n",
    "    for i in range(3):\n",
    "        for j in range(3):\n",
    "            if np.absolute(i - j) < 2:\n",
    "                images[k, i, :] = [0, 255, 255]\n",
    "                images[k, j, 0] = 255\n",
    "                labels[k] = 0\n",
    "                k += 1\n",
    "                images[k,:,:] = images[k-1,:,:].T\n",
    "                labels[k] = 1\n",
    "                k += 1\n",
    "                if i != j:\n",
    "                    images[k,:,:] = np.fliplr(images[k-2,:,:])\n",
    "                    labels[k] = 0\n",
    "                    k += 1\n",
    "                    images[k,:,:] = images[k-1,:,:].T\n",
    "                    labels[k] = 1\n",
    "                    k += 1\n",
    "    # random noising of pixels\n",
    "    for i in range(count - 22):\n",
    "        j = i % 22\n",
    "        images[i+22, :, :] = images[j,:,:]\n",
    "        for x in range(3):\n",
    "            labels[i+22] = i % 2\n",
    "            for y in range(3):\n",
    "                images[i+22,x,y] = np.floor(images[i+22,x,y] * np.random.uniform(.5, 1))     \n",
    "    return images, labels\n",
    "\n",
    "def flatten_save(images, labels, filename):\n",
    "    data = np.zeros((labels.shape[0], 10)).astype(int)\n",
    "    for i in range(labels.shape[0]):\n",
    "        data[i, 0] = labels[i]\n",
    "        data[i, 1:] = images[i,:,:].ravel()\n",
    "    np.savetxt(filename, data, delimiter=\",\", fmt='%5d')"
   ]
  },
  {
   "cell_type": "code",
   "execution_count": 6,
   "metadata": {},
   "outputs": [],
   "source": [
    "images, labels = generate(1000)\n",
    "flatten_save(images, labels, 'data.csv')"
   ]
  },
  {
   "cell_type": "code",
   "execution_count": 7,
   "metadata": {
    "scrolled": true
   },
   "outputs": [
    {
     "data": {
      "image/png": "[encoded data removed]",
      "text/plain": [
       "<Figure size 1296x432 with 120 Axes>"
      ]
     },
     "metadata": {},
     "output_type": "display_data"
    }
   ],
   "source": [
    "fig, axes = plt.subplots(6, 20, figsize=(18, 6),\n",
    "                         subplot_kw={'xticks':[], 'yticks':[]},\n",
    "                         gridspec_kw=dict(hspace=0.1, wspace=0.1))\n",
    "for i, ax in enumerate(axes.flat):\n",
    "   ax.imshow(-1 * (images[i] - 255), cmap='gray') "
   ]
  },
  {
   "cell_type": "code",
   "execution_count": null,
   "metadata": {},
   "outputs": [],
   "source": []
  }
 ],
 "metadata": {
  "kernelspec": {
   "display_name": "Python 3",
   "language": "python",
   "name": "python3"
  },
  "language_info": {
   "codemirror_mode": {
    "name": "ipython",
    "version": 3
   },
   "file_extension": ".py",
   "mimetype": "text/x-python",
   "name": "python",
   "nbconvert_exporter": "python",
   "pygments_lexer": "ipython3",
   "version": "3.6.4"
  }
 },
 "nbformat": 4,
 "nbformat_minor": 2
}
